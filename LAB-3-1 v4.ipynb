{
 "cells": [
  {
   "cell_type": "code",
   "execution_count": 1,
   "metadata": {},
   "outputs": [],
   "source": [
    "%matplotlib inline"
   ]
  },
  {
   "cell_type": "code",
   "execution_count": 1,
   "metadata": {},
   "outputs": [],
   "source": [
    "import torch\n",
    "import torch.nn as nn\n",
    "import torch.nn.functional as F\n",
    "import torch.optim as optim\n",
    "import torchvision\n",
    "from torchvision import datasets, transforms\n",
    "from torch.autograd import Variable\n",
    "import math"
   ]
  },
  {
   "cell_type": "code",
   "execution_count": 3,
   "metadata": {},
   "outputs": [
    {
     "name": "stdout",
     "output_type": "stream",
     "text": [
      "1.0.0\n"
     ]
    }
   ],
   "source": [
    "print(torch.__version__)"
   ]
  },
  {
   "cell_type": "code",
   "execution_count": 2,
   "metadata": {},
   "outputs": [
    {
     "name": "stdout",
     "output_type": "stream",
     "text": [
      "==> Check devices..\n",
      "Current device:  cuda\n",
      "Our selected device:  0\n",
      "1  GPUs is available\n"
     ]
    }
   ],
   "source": [
    "#To determine if your system supports CUDA\n",
    "print(\"==> Check devices..\")\n",
    "device = 'cuda' if torch.cuda.is_available() else 'cpu'\n",
    "print(\"Current device: \",device)\n",
    "\n",
    "#Also can print your current GPU id, and the number of GPUs you can use.\n",
    "print(\"Our selected device: \", torch.cuda.current_device())\n",
    "print(torch.cuda.device_count(), \" GPUs is available\")\n",
    "#device = 'cpu'"
   ]
  },
  {
   "cell_type": "code",
   "execution_count": 4,
   "metadata": {},
   "outputs": [],
   "source": [
    "#The transform function for train data\n",
    "transform_train = transforms.transforms.Compose([\n",
    "    transforms.ToTensor(), # first, convert image to PyTorch tensor\n",
    "    transforms.Normalize((0.1307,), (0.3081,)) # normalize inputs\n",
    "])\n",
    "\n",
    "#The transform function for test data\n",
    "transform_test = transforms.Compose([\n",
    "    transforms.ToTensor(), # first, convert image to PyTorch tensor\n",
    "    transforms.Normalize((0.1307,), (0.3081,)) # normalize inputs\n",
    "])"
   ]
  },
  {
   "cell_type": "code",
   "execution_count": 5,
   "metadata": {},
   "outputs": [],
   "source": [
    "\"\"\"1.2\"\"\" \n",
    "path = '../data/mnist_data'\n",
    "trainset = torchvision.datasets.MNIST(root=path, train=True, download=True, transform=transform_train)\n",
    "testset = torchvision.datasets.MNIST(root=path, train=False, download=True, transform=transform_test)"
   ]
  },
  {
   "cell_type": "code",
   "execution_count": 206,
   "metadata": {},
   "outputs": [],
   "source": [
    "trainloader = torch.utils.data.DataLoader(trainset, batch_size=1024, shuffle=True)\n",
    "testloader = torch.utils.data.DataLoader(testset, batch_size=1024, shuffle=False)"
   ]
  },
  {
   "cell_type": "code",
   "execution_count": 207,
   "metadata": {},
   "outputs": [],
   "source": [
    "classes = ('0', '1', '2', '3', '4', '5', '6', '7', '8', '9')"
   ]
  },
  {
   "cell_type": "code",
   "execution_count": 208,
   "metadata": {},
   "outputs": [],
   "source": [
    "import torch.nn as nn"
   ]
  },
  {
   "cell_type": "code",
   "execution_count": 209,
   "metadata": {},
   "outputs": [],
   "source": [
    "#Lab requirement:\n",
    "#    All weights are zero\n",
    "#    Uniform distribution (-1, 1)\n",
    "#    Normal distribution, mean = 0 & standard deviation = 0.1\n",
    "#    Xavier initialization\n",
    "#    Kaiming initialization"
   ]
  },
  {
   "cell_type": "code",
   "execution_count": 210,
   "metadata": {},
   "outputs": [],
   "source": [
    "# define your own model\n",
    "class Net(nn.Module):\n",
    "\n",
    "    #define the layers\n",
    "    def __init__(self):\n",
    "        super(Net, self).__init__()\n",
    "        self.conv1 = nn.Conv2d(1, 10, 5)\n",
    "        self.pool = nn.MaxPool2d(2, 2)\n",
    "        self.conv2 = nn.Conv2d(10, 20, 5)\n",
    "        self.fc1 = nn.Linear(320, 50)\n",
    "        self.fc2 = nn.Linear(50, 10)\n",
    "        self.dropout = nn.Dropout(0.5)\n",
    "        self.relu = nn.ReLU()\n",
    "        #self.relu = nn.PReLU()\n",
    "\n",
    "    #concatenate these layers\n",
    "    def forward(self, x):\n",
    "        # input is 28x28x1\n",
    "        # conv1(kernel=5, filters=10) 28x28x10 -> 24x24x10\n",
    "        # max_pool(kernel=2) 24x24x10 -> 12x12x10\n",
    "\n",
    "        x = self.relu(self.pool(self.conv1(x)))\n",
    "        \n",
    "        # conv2(kernel=5, filters=20) 12x12x20 -> 8x8x20\n",
    "        # max_pool(kernel=2) 8x8x20 -> 4x4x20\n",
    "\n",
    "        x = self.relu(self.pool(self.dropout(self.conv2(x))))\n",
    "        #x = self.relu(self.pool(self.conv2(x)))\n",
    "        \n",
    "        # flatten 4x4x20 = 320\n",
    "        x = x.view(-1, 320)\n",
    "\n",
    "        # 320 -> 50\n",
    "        x = self.relu(self.fc1(x))\n",
    "        x = self.dropout(x)\n",
    "        \n",
    "        # 50 -> 10\n",
    "        x = self.relu(self.fc2(x))\n",
    "        return x"
   ]
  },
  {
   "cell_type": "code",
   "execution_count": 211,
   "metadata": {},
   "outputs": [],
   "source": [
    "def init_weights_constant(m):\n",
    "    if isinstance(m, nn.Conv2d) or isinstance(m, nn.Linear):\n",
    "        nn.init.constant_(m.weight, 0)\n",
    "        \n",
    "def init_weights_uniform(m):\n",
    "    if isinstance(m, nn.Conv2d) or isinstance(m, nn.Linear):\n",
    "        nn.init.uniform_(m.weight, -0.1, 0.1)\n",
    "\n",
    "def init_weights_normal(m):\n",
    "    if isinstance(m, nn.Conv2d) or isinstance(m, nn.Linear):\n",
    "        nn.init.normal_(m.weight, 0, 0.01)\n",
    "\n",
    "def init_weights_xavier(m):\n",
    "    if isinstance(m, nn.Conv2d) or isinstance(m, nn.Linear):\n",
    "        nn.init.xavier_normal_(m.weight, gain=nn.init.calculate_gain('relu'))\n",
    "        \n",
    "def init_weights_kaiming(m):\n",
    "    if isinstance(m, nn.Conv2d):\n",
    "        nn.init.kaiming_normal_(m.weight, a=0.5, mode='fan_out', nonlinearity='relu')           \n",
    "    if isinstance(m, nn.Linear):\n",
    "        nn.init.kaiming_normal_(m.weight, a=0.1, mode='fan_out', nonlinearity='relu')           \n",
    "\n",
    "def init_weights_original(m):\n",
    "    return\n"
   ]
  },
  {
   "cell_type": "code",
   "execution_count": 212,
   "metadata": {},
   "outputs": [],
   "source": [
    "def construct_net(mode):\n",
    "    #declare a new model\n",
    "    net = Net()\n",
    "    if(mode == 'constant'):\n",
    "        print('constant mode')\n",
    "        init_func = init_weights_constant\n",
    "    elif(mode == 'uniform'):\n",
    "        print('uniform mode')\n",
    "        init_func = init_weights_uniform\n",
    "    elif(mode == 'normal'):\n",
    "        print('normal mode')\n",
    "        init_func = init_weights_normal\n",
    "    elif(mode == 'xavier'):\n",
    "        print('xavier mode')\n",
    "        init_func = init_weights_xavier\n",
    "    elif(mode == 'kaiming'):\n",
    "        print('kaiming mode')\n",
    "        init_func = init_weights_kaiming\n",
    "    else:\n",
    "        print('original mode')\n",
    "        init_func = init_weights_original\n",
    "    \n",
    "    net.apply(init_func)\n",
    "    # change all model tensor into cuda type\n",
    "    # something like weight & bias are the tensor \n",
    "    if device == 'cuda':\n",
    "        net = net.cuda(0)\n",
    "    else:\n",
    "        net = net.cpu()\n",
    "    \n",
    "    return net"
   ]
  },
  {
   "cell_type": "code",
   "execution_count": 213,
   "metadata": {},
   "outputs": [],
   "source": [
    "import matplotlib.pyplot as plt\n",
    "import numpy as np\n",
    "from matplotlib import colors\n",
    "from matplotlib.ticker import PercentFormatter\n",
    "\n",
    "def show_weight_distribution(net, batch):\n",
    "    n_bins = 50\n",
    "    font_size = 8\n",
    "    plt.rcParams.update({'axes.titlesize': font_size})\n",
    "    plt.rcParams.update({'axes.labelsize': font_size})\n",
    "    plt.rcParams.update({'xtick.labelsize': font_size})\n",
    "    plt.rcParams.update({'ytick.labelsize': font_size})\n",
    "    fig, axs = plt.subplots(1, 4, sharey=True)\n",
    "    \n",
    "    x = net.conv1.weight.view(-1,1).cpu().detach().numpy()\n",
    "    plt.subplot(1, 4, 1)\n",
    "    plt.hist(x, bins=n_bins)\n",
    "    plt.xlabel('conv1')\n",
    "    plt.title('Weight Distribution, batch: %d' %(batch))\n",
    "\n",
    "    x = net.conv2.weight.view(-1,1).cpu().detach().numpy()\n",
    "    plt.subplot(1, 4, 2)\n",
    "    plt.hist(x, bins=n_bins)\n",
    "    plt.xlabel('conv2')\n",
    "\n",
    "    x = net.fc1.weight.view(-1,1).cpu().detach().numpy()\n",
    "    plt.subplot(1, 4, 3)\n",
    "    plt.hist(x, bins=n_bins)\n",
    "    plt.xlabel('fc1')\n",
    "\n",
    "    x = net.fc2.weight.view(-1,1).cpu().detach().numpy()\n",
    "    plt.subplot(1, 4, 4)\n",
    "    plt.hist(x, bins=n_bins)\n",
    "    plt.xlabel('fc2')\n",
    "\n",
    "    plt.show()"
   ]
  },
  {
   "cell_type": "code",
   "execution_count": 214,
   "metadata": {},
   "outputs": [],
   "source": [
    "import matplotlib.pyplot as plt\n",
    "import numpy as np\n",
    "from matplotlib import colors\n",
    "from matplotlib.ticker import PercentFormatter\n",
    "\n",
    "def show_bias_distribution(epoch):\n",
    "    n_bins = 50\n",
    "    font_size = 8\n",
    "    plt.rcParams.update({'axes.titlesize': font_size})\n",
    "    plt.rcParams.update({'axes.labelsize': font_size})\n",
    "    plt.rcParams.update({'xtick.labelsize': font_size})\n",
    "    plt.rcParams.update({'ytick.labelsize': font_size})\n",
    "    fig, axs = plt.subplots(1, 4, sharey=True)\n",
    "    \n",
    "    x = net.conv1.bias.view(-1,1).cpu().detach().numpy()\n",
    "    plt.subplot(1, 4, 1)\n",
    "    plt.hist(x, bins=n_bins)\n",
    "    plt.xlabel('conv1')\n",
    "    plt.title('Bias Distribution, epoch: %d' %(epoch))\n",
    "\n",
    "    x = net.conv2.bias.view(-1,1).cpu().detach().numpy()\n",
    "    plt.subplot(1, 4, 2)\n",
    "    plt.hist(x, bins=n_bins)\n",
    "    plt.xlabel('conv2')\n",
    "\n",
    "    x = net.fc1.bias.view(-1,1).cpu().detach().numpy()\n",
    "    plt.subplot(1, 4, 3)\n",
    "    plt.hist(x, bins=n_bins)\n",
    "    plt.xlabel('fc1')\n",
    "\n",
    "    x = net.fc2.bias.view(-1,1).cpu().detach().numpy()\n",
    "    plt.subplot(1, 4, 4)\n",
    "    plt.hist(x, bins=n_bins)\n",
    "    plt.xlabel('fc2')\n",
    "\n",
    "    plt.show()"
   ]
  },
  {
   "cell_type": "code",
   "execution_count": 215,
   "metadata": {
    "scrolled": false
   },
   "outputs": [],
   "source": [
    "#Set the model in training mode\n",
    "#because some function like: dropout, batchnorm...etc, will have \n",
    "#different behaviors in training/evaluation mode\n",
    "#[document]: https://pytorch.org/docs/stable/nn.html#torch.nn.Module.train\n",
    "import torch.optim as optim\n",
    "\n",
    "def train(net):\n",
    "\n",
    "    #loss function\n",
    "    criterion = nn.CrossEntropyLoss()\n",
    "    #optimization algorithm\n",
    "    optimizer = optim.Adam(net.parameters(), lr=0.01)\n",
    "    #optimizer = optim.SGD(net.parameters(), lr=0.01, momentum=0.5)\n",
    "    \n",
    "    net.train()\n",
    "\n",
    "    for epoch in range(1):  # loop over the dataset multiple times\n",
    "        running_loss = 0.0\n",
    "        correct = 0\n",
    "\n",
    "        show_weight_distribution(net, 0)\n",
    "        for i, (inputs, labels) in enumerate(trainloader, 0):\n",
    "        \n",
    "            #change the type into cuda tensor \n",
    "            if device == 'cuda':\n",
    "                inputs = inputs.cuda(0)\n",
    "                labels = labels.cuda(0)\n",
    "            else:\n",
    "                inputs = inputs.cpu()\n",
    "                labels = labels.cpu()\n",
    "\n",
    "            # zero the parameter gradients\n",
    "            optimizer.zero_grad()\n",
    "\n",
    "            # forward + backward + optimize\n",
    "            outputs = net(inputs)\n",
    "            # select the class with highest probability\n",
    "            _, pred = outputs.max(1)\n",
    "            # if the model predicts the same results as the true\n",
    "            # label, then the correct counter will plus 1\n",
    "            correct += pred.eq(labels).sum().item()\n",
    "        \n",
    "            loss = criterion(outputs, labels)\n",
    "        \n",
    "            loss.backward()\n",
    "            optimizer.step()\n",
    "\n",
    "            # print statistics\n",
    "            running_loss += loss.item()\n",
    "            if i % 200 == 199:    # print every 200 mini-batches\n",
    "                print('[%d, %5d] accuracy: %.2f%% loss: %.3f' %\n",
    "                    (epoch + 1, i + 1, 100.*correct/len(trainset), running_loss / 200))\n",
    "                running_loss = 0.0\n",
    "                show_weight_distribution(net, i + 1)\n",
    "            \n",
    "        print('%d epoch, training accuracy: %.2f%%' % (epoch+1, 100.*correct/len(trainset)))\n",
    "    print('Finished Training')"
   ]
  },
  {
   "cell_type": "code",
   "execution_count": 216,
   "metadata": {},
   "outputs": [],
   "source": [
    "#show_weight_distribution(50)\n",
    "#show_bias_distribution(50)"
   ]
  },
  {
   "cell_type": "code",
   "execution_count": 217,
   "metadata": {},
   "outputs": [],
   "source": [
    "#save entire model\n",
    "#torch.save(net, './mnist-model.pt')\n",
    "#print('Finished Saving')"
   ]
  },
  {
   "cell_type": "code",
   "execution_count": 218,
   "metadata": {},
   "outputs": [],
   "source": [
    "#net = torch.load('./mnist-model.pt')\n",
    "#print('Finished Loading')"
   ]
  },
  {
   "cell_type": "code",
   "execution_count": 219,
   "metadata": {},
   "outputs": [],
   "source": [
    "#print('==> Testing model..')\n",
    "#net.eval()"
   ]
  },
  {
   "cell_type": "code",
   "execution_count": 220,
   "metadata": {},
   "outputs": [],
   "source": [
    "def test(net):\n",
    "    criterion = nn.CrossEntropyLoss()\n",
    "\n",
    "    correct = 0\n",
    "    total = 0\n",
    "    running_loss = 0.0\n",
    "\n",
    "    class_correct = list(0. for i in range(10))\n",
    "    class_total = list(0. for i in range(10))\n",
    "\n",
    "    with torch.no_grad():\n",
    "        for data in testloader:\n",
    "            images, labels = data\n",
    "\n",
    "            if device == 'cuda':\n",
    "                images = images.cuda(0)\n",
    "                labels = labels.cuda(0)\n",
    "            else:\n",
    "                images = images.cpu()\n",
    "                labels = labels.cpu()\n",
    "        \n",
    "            outputs = net(images)\n",
    "            _, predicted = torch.max(outputs, 1)\n",
    "        \n",
    "            total += labels.size(0)\n",
    "            correct += (predicted == labels).sum().item()\n",
    "\n",
    "            loss = criterion(outputs, labels)\n",
    "            running_loss += loss.item()\n",
    "\n",
    "            c = (predicted == labels).squeeze()\n",
    "            #print(predicted)\n",
    "            #print(labels.size(0))\n",
    "            #print(c)\n",
    "            for i in range(labels.size(0)):\n",
    "                label = labels[i]\n",
    "                class_correct[label] += c[i].item()\n",
    "                class_total[label] += 1\n",
    "\n",
    "    print('Accuracy of the network on the %d test images: %.2f%%, and loss is: %.3f'\n",
    "          % (total, 100 * correct / total, running_loss / total))\n",
    "\n",
    "    for i in range(10):\n",
    "        print('Accuracy of %5s : %2d %%' % (\n",
    "            classes[i], 100 * class_correct[i] / class_total[i]))"
   ]
  },
  {
   "cell_type": "code",
   "execution_count": 227,
   "metadata": {
    "scrolled": false
   },
   "outputs": [
    {
     "name": "stdout",
     "output_type": "stream",
     "text": [
      "constant mode\n"
     ]
    },
    {
     "data": {
      "image/png": "[encoded data removed]",
      "text/plain": [
       "<Figure size 432x288 with 4 Axes>"
      ]
     },
     "metadata": {
      "needs_background": "light"
     },
     "output_type": "display_data"
    },
    {
     "name": "stdout",
     "output_type": "stream",
     "text": [
      "1 epoch, training accuracy: 22.51%\n",
      "Finished Training\n",
      "Accuracy of the network on the 10000 test images: 26.96%, and loss is: 0.002\n",
      "Accuracy of     0 : 91 %\n",
      "Accuracy of     1 :  0 %\n",
      "Accuracy of     2 :  0 %\n",
      "Accuracy of     3 : 88 %\n",
      "Accuracy of     4 : 90 %\n",
      "Accuracy of     5 :  0 %\n",
      "Accuracy of     6 :  0 %\n",
      "Accuracy of     7 :  0 %\n",
      "Accuracy of     8 :  1 %\n",
      "Accuracy of     9 :  0 %\n"
     ]
    }
   ],
   "source": [
    "new_net = construct_net('constant')\n",
    "train(new_net)\n",
    "test(new_net)"
   ]
  },
  {
   "cell_type": "code",
   "execution_count": 228,
   "metadata": {},
   "outputs": [
    {
     "name": "stdout",
     "output_type": "stream",
     "text": [
      "uniform mode\n"
     ]
    },
    {
     "data": {
      "image/png": "[encoded data removed]",
      "text/plain": [
       "<Figure size 432x288 with 4 Axes>"
      ]
     },
     "metadata": {
      "needs_background": "light"
     },
     "output_type": "display_data"
    },
    {
     "name": "stdout",
     "output_type": "stream",
     "text": [
      "1 epoch, training accuracy: 80.10%\n",
      "Finished Training\n",
      "Accuracy of the network on the 10000 test images: 92.66%, and loss is: 0.000\n",
      "Accuracy of     0 : 97 %\n",
      "Accuracy of     1 : 96 %\n",
      "Accuracy of     2 : 92 %\n",
      "Accuracy of     3 : 95 %\n",
      "Accuracy of     4 : 92 %\n",
      "Accuracy of     5 : 89 %\n",
      "Accuracy of     6 : 91 %\n",
      "Accuracy of     7 : 91 %\n",
      "Accuracy of     8 : 90 %\n",
      "Accuracy of     9 : 88 %\n"
     ]
    }
   ],
   "source": [
    "new_net = construct_net('uniform')\n",
    "train(new_net)\n",
    "test(new_net)"
   ]
  },
  {
   "cell_type": "code",
   "execution_count": 229,
   "metadata": {},
   "outputs": [
    {
     "name": "stdout",
     "output_type": "stream",
     "text": [
      "normal mode\n"
     ]
    },
    {
     "data": {
      "image/png": "[encoded data removed]",
      "text/plain": [
       "<Figure size 432x288 with 4 Axes>"
      ]
     },
     "metadata": {
      "needs_background": "light"
     },
     "output_type": "display_data"
    },
    {
     "name": "stdout",
     "output_type": "stream",
     "text": [
      "1 epoch, training accuracy: 64.23%\n",
      "Finished Training\n",
      "Accuracy of the network on the 10000 test images: 82.81%, and loss is: 0.000\n",
      "Accuracy of     0 : 90 %\n",
      "Accuracy of     1 : 95 %\n",
      "Accuracy of     2 : 81 %\n",
      "Accuracy of     3 : 81 %\n",
      "Accuracy of     4 : 88 %\n",
      "Accuracy of     5 : 83 %\n",
      "Accuracy of     6 : 88 %\n",
      "Accuracy of     7 : 82 %\n",
      "Accuracy of     8 : 78 %\n",
      "Accuracy of     9 : 56 %\n"
     ]
    }
   ],
   "source": [
    "new_net = construct_net('normal')\n",
    "train(new_net)\n",
    "test(new_net)"
   ]
  },
  {
   "cell_type": "code",
   "execution_count": 230,
   "metadata": {},
   "outputs": [
    {
     "name": "stdout",
     "output_type": "stream",
     "text": [
      "xavier mode\n"
     ]
    },
    {
     "data": {
      "image/png": "[encoded data removed]",
      "text/plain": [
       "<Figure size 432x288 with 4 Axes>"
      ]
     },
     "metadata": {
      "needs_background": "light"
     },
     "output_type": "display_data"
    },
    {
     "name": "stdout",
     "output_type": "stream",
     "text": [
      "1 epoch, training accuracy: 32.44%\n",
      "Finished Training\n",
      "Accuracy of the network on the 10000 test images: 61.77%, and loss is: 0.001\n",
      "Accuracy of     0 : 81 %\n",
      "Accuracy of     1 : 83 %\n",
      "Accuracy of     2 : 63 %\n",
      "Accuracy of     3 : 56 %\n",
      "Accuracy of     4 : 52 %\n",
      "Accuracy of     5 : 33 %\n",
      "Accuracy of     6 : 73 %\n",
      "Accuracy of     7 : 61 %\n",
      "Accuracy of     8 : 61 %\n",
      "Accuracy of     9 : 45 %\n"
     ]
    }
   ],
   "source": [
    "new_net = construct_net('xavier')\n",
    "train(new_net)\n",
    "test(new_net)"
   ]
  },
  {
   "cell_type": "code",
   "execution_count": 233,
   "metadata": {},
   "outputs": [
    {
     "name": "stdout",
     "output_type": "stream",
     "text": [
      "kaiming mode\n"
     ]
    },
    {
     "data": {
      "image/png": "[encoded data removed]",
      "text/plain": [
       "<Figure size 432x288 with 4 Axes>"
      ]
     },
     "metadata": {
      "needs_background": "light"
     },
     "output_type": "display_data"
    },
    {
     "name": "stdout",
     "output_type": "stream",
     "text": [
      "1 epoch, training accuracy: 25.27%\n",
      "Finished Training\n",
      "Accuracy of the network on the 10000 test images: 45.09%, and loss is: 0.002\n",
      "Accuracy of     0 : 86 %\n",
      "Accuracy of     1 : 88 %\n",
      "Accuracy of     2 : 42 %\n",
      "Accuracy of     3 :  8 %\n",
      "Accuracy of     4 :  1 %\n",
      "Accuracy of     5 : 57 %\n",
      "Accuracy of     6 : 82 %\n",
      "Accuracy of     7 :  0 %\n",
      "Accuracy of     8 : 12 %\n",
      "Accuracy of     9 : 69 %\n"
     ]
    }
   ],
   "source": [
    "new_net = construct_net('kaiming')\n",
    "train(new_net)\n",
    "test(new_net)"
   ]
  },
  {
   "cell_type": "code",
   "execution_count": 232,
   "metadata": {},
   "outputs": [
    {
     "name": "stdout",
     "output_type": "stream",
     "text": [
      "original mode\n"
     ]
    },
    {
     "data": {
      "image/png": "[encoded data removed]",
      "text/plain": [
       "<Figure size 432x288 with 4 Axes>"
      ]
     },
     "metadata": {
      "needs_background": "light"
     },
     "output_type": "display_data"
    },
    {
     "name": "stdout",
     "output_type": "stream",
     "text": [
      "1 epoch, training accuracy: 72.67%\n",
      "Finished Training\n",
      "Accuracy of the network on the 10000 test images: 90.53%, and loss is: 0.000\n",
      "Accuracy of     0 : 91 %\n",
      "Accuracy of     1 : 96 %\n",
      "Accuracy of     2 : 92 %\n",
      "Accuracy of     3 : 92 %\n",
      "Accuracy of     4 : 91 %\n",
      "Accuracy of     5 : 87 %\n",
      "Accuracy of     6 : 93 %\n",
      "Accuracy of     7 : 87 %\n",
      "Accuracy of     8 : 89 %\n",
      "Accuracy of     9 : 83 %\n"
     ]
    }
   ],
   "source": [
    "new_net = construct_net('')\n",
    "train(new_net)\n",
    "test(new_net)"
   ]
  },
  {
   "cell_type": "code",
   "execution_count": null,
   "metadata": {},
   "outputs": [],
   "source": []
  },
  {
   "cell_type": "code",
   "execution_count": null,
   "metadata": {},
   "outputs": [],
   "source": []
  },
  {
   "cell_type": "code",
   "execution_count": null,
   "metadata": {},
   "outputs": [],
   "source": []
  }
 ],
 "metadata": {
  "anaconda-cloud": {},
  "kernelspec": {
   "display_name": "Python 3",
   "language": "python",
   "name": "python3"
  },
  "language_info": {
   "codemirror_mode": {
    "name": "ipython",
    "version": 3
   },
   "file_extension": ".py",
   "mimetype": "text/x-python",
   "name": "python",
   "nbconvert_exporter": "python",
   "pygments_lexer": "ipython3",
   "version": "3.5.2"
  }
 },
 "nbformat": 4,
 "nbformat_minor": 2
}
